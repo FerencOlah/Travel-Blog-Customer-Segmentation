{
 "cells": [
  {
   "cell_type": "code",
   "execution_count": 8,
   "id": "85873de5-9482-4708-b46e-bf3b115f1aed",
   "metadata": {},
   "outputs": [],
   "source": [
    "import pandas as pd\n",
    "import matplotlib.pyplot as plt\n",
    "from sklearn.linear_model import LinearRegression\n",
    "import numpy as np"
   ]
  },
  {
   "cell_type": "code",
   "execution_count": 9,
   "id": "7d813f2f-fbbb-4807-abca-26b2ddf45e66",
   "metadata": {},
   "outputs": [
    {
     "data": {
      "text/html": [
       "<div>\n",
       "<style scoped>\n",
       "    .dataframe tbody tr th:only-of-type {\n",
       "        vertical-align: middle;\n",
       "    }\n",
       "\n",
       "    .dataframe tbody tr th {\n",
       "        vertical-align: top;\n",
       "    }\n",
       "\n",
       "    .dataframe thead th {\n",
       "        text-align: right;\n",
       "    }\n",
       "</style>\n",
       "<table border=\"1\" class=\"dataframe\">\n",
       "  <thead>\n",
       "    <tr style=\"text-align: right;\">\n",
       "      <th></th>\n",
       "      <th>event_type</th>\n",
       "      <th>price</th>\n",
       "      <th>dateandtime</th>\n",
       "    </tr>\n",
       "  </thead>\n",
       "  <tbody>\n",
       "    <tr>\n",
       "      <th>0</th>\n",
       "      <td>buy</td>\n",
       "      <td>80</td>\n",
       "      <td>2018.01.05 10:23</td>\n",
       "    </tr>\n",
       "    <tr>\n",
       "      <th>1</th>\n",
       "      <td>buy</td>\n",
       "      <td>8</td>\n",
       "      <td>2018.01.04 0:50</td>\n",
       "    </tr>\n",
       "    <tr>\n",
       "      <th>2</th>\n",
       "      <td>buy</td>\n",
       "      <td>8</td>\n",
       "      <td>2018.01.10 2:09</td>\n",
       "    </tr>\n",
       "    <tr>\n",
       "      <th>3</th>\n",
       "      <td>buy</td>\n",
       "      <td>8</td>\n",
       "      <td>2018.02.24 18:22</td>\n",
       "    </tr>\n",
       "    <tr>\n",
       "      <th>4</th>\n",
       "      <td>buy</td>\n",
       "      <td>8</td>\n",
       "      <td>2018.01.22 8:09</td>\n",
       "    </tr>\n",
       "  </tbody>\n",
       "</table>\n",
       "</div>"
      ],
      "text/plain": [
       "  event_type  price       dateandtime\n",
       "0        buy     80  2018.01.05 10:23\n",
       "1        buy      8   2018.01.04 0:50\n",
       "2        buy      8   2018.01.10 2:09\n",
       "3        buy      8  2018.02.24 18:22\n",
       "4        buy      8   2018.01.22 8:09"
      ]
     },
     "execution_count": 9,
     "metadata": {},
     "output_type": "execute_result"
    }
   ],
   "source": [
    "# Load the CSV data into a DataFrame and examine the first few rows to understand the structure\n",
    "data_path = 'buyer-final.csv'\n",
    "data = pd.read_csv(data_path, delimiter=';', usecols=['event_type', 'price', 'dateandtime'])\n",
    "data.head()"
   ]
  },
  {
   "cell_type": "code",
   "execution_count": 10,
   "id": "db5be693-0814-4156-9de8-f8172c94bdf1",
   "metadata": {},
   "outputs": [
    {
     "data": {
      "text/plain": [
       "{datetime.date(2018, 1, 1): 200,\n",
       " datetime.date(2018, 1, 2): 304,\n",
       " datetime.date(2018, 1, 3): 304,\n",
       " datetime.date(2018, 1, 4): 312,\n",
       " datetime.date(2018, 1, 5): 480,\n",
       " datetime.date(2018, 1, 6): 368,\n",
       " datetime.date(2018, 1, 7): 352,\n",
       " datetime.date(2018, 1, 8): 640,\n",
       " datetime.date(2018, 1, 9): 432,\n",
       " datetime.date(2018, 1, 10): 752,\n",
       " datetime.date(2018, 1, 11): 768,\n",
       " datetime.date(2018, 1, 12): 296,\n",
       " datetime.date(2018, 1, 13): 688,\n",
       " datetime.date(2018, 1, 14): 704,\n",
       " datetime.date(2018, 1, 15): 784,\n",
       " datetime.date(2018, 1, 16): 624,\n",
       " datetime.date(2018, 1, 17): 1072,\n",
       " datetime.date(2018, 1, 18): 408,\n",
       " datetime.date(2018, 1, 19): 1952,\n",
       " datetime.date(2018, 1, 20): 1680,\n",
       " datetime.date(2018, 1, 21): 840,\n",
       " datetime.date(2018, 1, 22): 608,\n",
       " datetime.date(2018, 1, 23): 784,\n",
       " datetime.date(2018, 1, 24): 672,\n",
       " datetime.date(2018, 1, 25): 1320,\n",
       " datetime.date(2018, 1, 26): 464,\n",
       " datetime.date(2018, 1, 27): 712,\n",
       " datetime.date(2018, 1, 28): 904,\n",
       " datetime.date(2018, 1, 29): 2072,\n",
       " datetime.date(2018, 1, 30): 1032,\n",
       " datetime.date(2018, 1, 31): 608,\n",
       " datetime.date(2018, 2, 1): 2416,\n",
       " datetime.date(2018, 2, 2): 976,\n",
       " datetime.date(2018, 2, 3): 1672,\n",
       " datetime.date(2018, 2, 4): 2192,\n",
       " datetime.date(2018, 2, 5): 1912,\n",
       " datetime.date(2018, 2, 6): 2600,\n",
       " datetime.date(2018, 2, 7): 1096,\n",
       " datetime.date(2018, 2, 8): 848,\n",
       " datetime.date(2018, 2, 9): 1472,\n",
       " datetime.date(2018, 2, 10): 2528,\n",
       " datetime.date(2018, 2, 11): 2064,\n",
       " datetime.date(2018, 2, 12): 2880,\n",
       " datetime.date(2018, 2, 13): 2192,\n",
       " datetime.date(2018, 2, 14): 1600,\n",
       " datetime.date(2018, 2, 15): 1864,\n",
       " datetime.date(2018, 2, 16): 1744,\n",
       " datetime.date(2018, 2, 17): 2312,\n",
       " datetime.date(2018, 2, 18): 952,\n",
       " datetime.date(2018, 2, 19): 2688,\n",
       " datetime.date(2018, 2, 20): 3136,\n",
       " datetime.date(2018, 2, 21): 2400,\n",
       " datetime.date(2018, 2, 22): 2072,\n",
       " datetime.date(2018, 2, 23): 2824,\n",
       " datetime.date(2018, 2, 24): 2968,\n",
       " datetime.date(2018, 2, 25): 3096,\n",
       " datetime.date(2018, 2, 26): 3504,\n",
       " datetime.date(2018, 2, 27): 2776,\n",
       " datetime.date(2018, 2, 28): 3488,\n",
       " datetime.date(2018, 3, 1): 2896,\n",
       " datetime.date(2018, 3, 2): 3496,\n",
       " datetime.date(2018, 3, 3): 4288,\n",
       " datetime.date(2018, 3, 4): 4832,\n",
       " datetime.date(2018, 3, 5): 5152,\n",
       " datetime.date(2018, 3, 6): 3456,\n",
       " datetime.date(2018, 3, 7): 3352,\n",
       " datetime.date(2018, 3, 8): 2504,\n",
       " datetime.date(2018, 3, 9): 2800,\n",
       " datetime.date(2018, 3, 10): 1696,\n",
       " datetime.date(2018, 3, 11): 4240,\n",
       " datetime.date(2018, 3, 12): 5536,\n",
       " datetime.date(2018, 3, 13): 1248,\n",
       " datetime.date(2018, 3, 14): 1872,\n",
       " datetime.date(2018, 3, 15): 3008,\n",
       " datetime.date(2018, 3, 16): 2064,\n",
       " datetime.date(2018, 3, 17): 3640,\n",
       " datetime.date(2018, 3, 18): 4592,\n",
       " datetime.date(2018, 3, 19): 2728,\n",
       " datetime.date(2018, 3, 20): 2256,\n",
       " datetime.date(2018, 3, 21): 1576,\n",
       " datetime.date(2018, 3, 22): 2240,\n",
       " datetime.date(2018, 3, 23): 7424,\n",
       " datetime.date(2018, 3, 24): 5712,\n",
       " datetime.date(2018, 3, 25): 6280,\n",
       " datetime.date(2018, 3, 26): 2808,\n",
       " datetime.date(2018, 3, 27): 7056,\n",
       " datetime.date(2018, 3, 28): 5480,\n",
       " datetime.date(2018, 3, 29): 3752,\n",
       " datetime.date(2018, 3, 30): 1088}"
      ]
     },
     "execution_count": 10,
     "metadata": {},
     "output_type": "execute_result"
    }
   ],
   "source": [
    "# Convert 'dateandtime' to datetime and extract the date to a new column\n",
    "data['date'] = pd.to_datetime(data['dateandtime']).dt.date\n",
    "\n",
    "# Group by the new 'date' column and sum up the 'price' values to get daily revenues\n",
    "daily_revenues = data.groupby('date')['price'].sum()\n",
    "\n",
    "# Convert to a dictionary for daily revenues\n",
    "daily_revenues_dict = daily_revenues.to_dict()\n",
    "daily_revenues_dict"
   ]
  },
  {
   "cell_type": "code",
   "execution_count": 11,
   "id": "1f4a92fb-cd56-45bc-846d-dac7f71decc6",
   "metadata": {},
   "outputs": [
    {
     "data": {
      "text/plain": [
       "(78.08838951310963, 47.88818522301666, 0.5783472575365921)"
      ]
     },
     "execution_count": 11,
     "metadata": {},
     "output_type": "execute_result"
    }
   ],
   "source": [
    "# Create a DataFrame for linear regression\n",
    "df_revenues = pd.DataFrame(list(daily_revenues_dict.items()), columns=['Date', 'Revenue'])\n",
    "\n",
    "# Convert 'Date' to datetime\n",
    "df_revenues['Date'] = pd.to_datetime(df_revenues['Date'])\n",
    "\n",
    "# Assign a 'DayNumber' relative to the first date in the DataFrame\n",
    "df_revenues['DayNumber'] = (df_revenues['Date'] - df_revenues['Date'].min()).dt.days\n",
    "\n",
    "# Prepare the data for the regression model\n",
    "X = df_revenues[['DayNumber']]  # Features\n",
    "y = df_revenues['Revenue']      # Target variable\n",
    "\n",
    "# Create a linear regression model\n",
    "model = LinearRegression()\n",
    "\n",
    "# Fit the model\n",
    "model.fit(X, y)\n",
    "\n",
    "# The model's intercept and slope (coefficient)\n",
    "intercept = model.intercept_\n",
    "slope = model.coef_[0]\n",
    "\n",
    "# Calculate the R-squared value\n",
    "r_squared = model.score(X, y)\n",
    "\n",
    "intercept, slope, r_squared"
   ]
  },
  {
   "cell_type": "code",
   "execution_count": 13,
   "id": "99f47bb9-f331-432e-aa25-f9410b713ece",
   "metadata": {},
   "outputs": [
    {
     "data": {
      "image/png": "[encoded data removed]",
      "text/plain": [
       "<Figure size 640x480 with 1 Axes>"
      ]
     },
     "metadata": {},
     "output_type": "display_data"
    }
   ],
   "source": [
    "# Predict revenues using the model to plot the regression line\n",
    "y_pred = model.predict(X)\n",
    "\n",
    "# Plot the original data points\n",
    "plt.scatter(X, y, color='blue', label='Revenues')\n",
    "\n",
    "# Plot the regression line\n",
    "plt.plot(X, y_pred, color='red', linewidth=2, label='Regression Line')\n",
    "\n",
    "# Label the plot\n",
    "plt.title('Linear Regression on Daily Revenues')\n",
    "plt.xlabel('Day Number')\n",
    "plt.ylabel('Revenue')\n",
    "plt.legend()\n",
    "\n",
    "# Show the plot\n",
    "plt.show()"
   ]
  },
  {
   "cell_type": "code",
   "execution_count": null,
   "id": "8c849d36-9311-405b-a411-c5d3ac796c96",
   "metadata": {},
   "outputs": [],
   "source": []
  }
 ],
 "metadata": {
  "kernelspec": {
   "display_name": "Python 3 (ipykernel)",
   "language": "python",
   "name": "python3"
  },
  "language_info": {
   "codemirror_mode": {
    "name": "ipython",
    "version": 3
   },
   "file_extension": ".py",
   "mimetype": "text/x-python",
   "name": "python",
   "nbconvert_exporter": "python",
   "pygments_lexer": "ipython3",
   "version": "3.11.7"
  }
 },
 "nbformat": 4,
 "nbformat_minor": 5
}
